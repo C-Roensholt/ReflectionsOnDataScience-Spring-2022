{
 "cells": [
  {
   "cell_type": "markdown",
   "metadata": {},
   "source": [
    "# The Lie Factor$^1$\n",
    "\n",
    "## Definition\n",
    "\n",
    "The \"Lie Factor\" is a value to describe the relation between the size of effect shown in a graphic and the size of effect shown in the data.\n",
    "\n",
    "Edward Tufte, Prof. at the Yale University, defined the “Lie Factor” in his book “The Visual Display of Quantitative Information” in 1983.[Tufte, 1991]\n",
    "\n",
    "He states the principle that\n",
    "\n",
    "The representation of numbers, as physically measured on the surface of the graphic itself, should be directly proportional to the quantities represented.\n",
    "\n",
    "This results in the following formula:\n",
    "$$\n",
    "\\text{Lie Factor} = \\frac{\\text{size of effect shown in graphic}}{\\text{size of effect in data}}\n",
    "$$\n",
    "where\n",
    "$$\n",
    "\\text{size of effect} = \\frac{\\text{|second value - first value|}}{\\text{first value}}\n",
    "$$\n",
    "\n",
    "In other words, the Lie Factor is “the size of an effect shown in a graph divided by the actual size of the effect in the data on which the graph is based”. [Craven, 2001]\n",
    "\n",
    "## Description\n",
    "\n",
    "To ensure the Integrity of a graphic, its Lie Factor should have a value between 0.95 and 1.05. If the value is less or greater, it indicates a substantial (and often intended) distortion, far beyond minor inaccuracies (e.g. caused by plotting).\n",
    "\n",
    "For example, if the lie factor had the value 1.02, then the graphic would not be described as a “lying” one, since a jitter in the graphic or another minor error is more likely the cause for the given distortion. On the other hand, if the factor had the value 1.45, we can generally assume that the producer intentionally distorted the graphic. Is the Lie Factor greater than 1, the concerned graphic is so called “Overstating”. Is it less than 1, the graphic is “Understating”.\n",
    "\n",
    "\n",
    "\n",
    "\n",
    "\n",
    "1: https://infovis-wiki.net/wiki/Lie_Factor"
   ]
  },
  {
   "cell_type": "markdown",
   "metadata": {},
   "source": [
    "# Example\n",
    "![](https://miro.medium.com/max/700/1*uI-z9s9_URfjzpQc3FCDxw.png)\n",
    "\n",
    "In this chart from the Argentinian TV channel C5N, it looks like Argentina is testing for COVID-19 at almost the same rate as the United States (EEUU). However, by inspecting the numbers, we immediately observe that Argentina is doing significantly worse than the US. Let's calculate the Lie Factor:\n",
    "\n",
    "* The Argentinian bar is about 80 pixels tall. The American bar is about 100 pixels tall.\n",
    "* The size of the effect shown in graphic is then (100-80)/80 = 0.25, and the size of the effect in data is (7000-330)/(330) = 20.2\n",
    "* The lie factor is thus 0.25 / 20.2=0.0123.\n",
    "\n",
    "We can now conclude that the graphic is understating."
   ]
  },
  {
   "cell_type": "markdown",
   "metadata": {},
   "source": [
    "# Exercise\n",
    "Find the Lie Factors (outside the range [0.95 : 1.05]) in the following charts.\n",
    "In order to measure pixel coordinates, you can use the screenshot tool (Command-Shift-4) on Mac. On Windows, you can save the screenshot from snipping tool and look at its properties to see its size in pixels. On Linux, use the screenshot tool of your choice (scrot and flameshot are popular), and use the `file` command to see its dimensions."
   ]
  },
  {
   "cell_type": "markdown",
   "metadata": {},
   "source": [
    "![](https://www.callingbullshit.org/tools/img/GTAI_average_hours.gif)"
   ]
  },
  {
   "cell_type": "code",
   "execution_count": 2,
   "metadata": {},
   "outputs": [
    {
     "data": {
      "text/plain": [
       "10.593869731800783"
      ]
     },
     "execution_count": 2,
     "metadata": {},
     "output_type": "execute_result"
    }
   ],
   "source": [
    "graphic_diff = (360-290)/290\n",
    "data_diff = (40.4-39.5)/39.5\n",
    "lie_factor1 = graphic_diff / data_diff\n",
    "lie_factor1"
   ]
  },
  {
   "cell_type": "markdown",
   "metadata": {},
   "source": [
    "![](https://peltiertech.com/images/2011-11/Ybroken.png)"
   ]
  },
  {
   "cell_type": "code",
   "execution_count": 3,
   "metadata": {},
   "outputs": [
    {
     "data": {
      "text/plain": [
       "0.2854984894259818"
      ]
     },
     "execution_count": 3,
     "metadata": {},
     "output_type": "execute_result"
    }
   ],
   "source": [
    "graphic_diff = (310-40)/40\n",
    "data_diff = (34.5-1.4)/1.4\n",
    "lie_factor2 = graphic_diff / data_diff\n",
    "lie_factor2"
   ]
  },
  {
   "cell_type": "markdown",
   "metadata": {},
   "source": [
    "![](https://pbs.twimg.com/media/CzenChZXAAASXED?format=png&name=small)"
   ]
  },
  {
   "cell_type": "code",
   "execution_count": 4,
   "metadata": {},
   "outputs": [
    {
     "ename": "ZeroDivisionError",
     "evalue": "float division by zero",
     "output_type": "error",
     "traceback": [
      "\u001b[1;31m---------------------------------------------------------------------------\u001b[0m",
      "\u001b[1;31mZeroDivisionError\u001b[0m                         Traceback (most recent call last)",
      "\u001b[1;32m~\\AppData\\Local\\Temp/ipykernel_15896/1989795800.py\u001b[0m in \u001b[0;36m<module>\u001b[1;34m\u001b[0m\n\u001b[0;32m      1\u001b[0m \u001b[0mgraphic_diff\u001b[0m \u001b[1;33m=\u001b[0m \u001b[1;33m(\u001b[0m\u001b[1;36m195\u001b[0m\u001b[1;33m-\u001b[0m\u001b[1;36m195\u001b[0m\u001b[1;33m)\u001b[0m\u001b[1;33m/\u001b[0m\u001b[1;36m195\u001b[0m\u001b[1;33m\u001b[0m\u001b[1;33m\u001b[0m\u001b[0m\n\u001b[0;32m      2\u001b[0m \u001b[0mdata_diff\u001b[0m \u001b[1;33m=\u001b[0m \u001b[1;33m(\u001b[0m\u001b[1;36m1\u001b[0m\u001b[1;33m-\u001b[0m\u001b[1;36m1\u001b[0m\u001b[1;33m)\u001b[0m\u001b[1;33m/\u001b[0m\u001b[1;36m1\u001b[0m\u001b[1;33m\u001b[0m\u001b[1;33m\u001b[0m\u001b[0m\n\u001b[1;32m----> 3\u001b[1;33m \u001b[0mlie_factor3\u001b[0m \u001b[1;33m=\u001b[0m \u001b[0mgraphic_diff\u001b[0m \u001b[1;33m/\u001b[0m \u001b[0mdata_diff\u001b[0m\u001b[1;33m\u001b[0m\u001b[1;33m\u001b[0m\u001b[0m\n\u001b[0m\u001b[0;32m      4\u001b[0m \u001b[0mlie_factor3\u001b[0m\u001b[1;33m\u001b[0m\u001b[1;33m\u001b[0m\u001b[0m\n",
      "\u001b[1;31mZeroDivisionError\u001b[0m: float division by zero"
     ]
    }
   ],
   "source": [
    "graphic_diff = (195-195)/195\n",
    "data_diff = (1-1)/1\n",
    "lie_factor3 = graphic_diff / data_diff\n",
    "lie_factor3"
   ]
  }
 ],
 "metadata": {
  "kernelspec": {
   "display_name": "Python 3",
   "language": "python",
   "name": "python3"
  },
  "language_info": {
   "codemirror_mode": {
    "name": "ipython",
    "version": 3
   },
   "file_extension": ".py",
   "mimetype": "text/x-python",
   "name": "python",
   "nbconvert_exporter": "python",
   "pygments_lexer": "ipython3",
   "version": "3.8.8"
  }
 },
 "nbformat": 4,
 "nbformat_minor": 2
}
